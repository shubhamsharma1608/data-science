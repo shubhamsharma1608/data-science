{
 "cells": [
  {
   "cell_type": "code",
   "execution_count": 1,
   "id": "7d399c1f",
   "metadata": {},
   "outputs": [],
   "source": [
    " from azureml.core import Workspace\n",
    "ws= Workspace.from_config()\n"
   ]
  },
  {
   "cell_type": "code",
   "execution_count": 2,
   "id": "511a8d2b",
   "metadata": {},
   "outputs": [
    {
     "name": "stdout",
     "output_type": "stream",
     "text": [
      "Run(Experiment: qwewer,\n",
      "Id: AutoML_7590d3a5-7217-42cb-9205-a87675e13872,\n",
      "Type: automl,\n",
      "Status: Completed)\n"
     ]
    },
    {
     "data": {
      "text/plain": [
       "['DatasetEvaluation',\n",
       " 'FeaturesGeneration',\n",
       " 'DatasetFeaturization',\n",
       " 'DatasetFeaturizationCompleted',\n",
       " 'DatasetCrossValidationSplit',\n",
       " 'ModelSelection',\n",
       " 'BestRunExplainModel',\n",
       " 'ModelExplanationDataSetSetup',\n",
       " 'PickSurrogateModel',\n",
       " 'EngineeredFeatureExplanations',\n",
       " 'EngineeredFeatureExplanations',\n",
       " 'RawFeaturesExplanations']"
      ]
     },
     "execution_count": 2,
     "metadata": {},
     "output_type": "execute_result"
    }
   ],
   "source": [
    "runs= ws.experiments['qwewer'].get_runs()\n",
    "for run in runs :\n",
    "    print(run)\n",
    "run.get_metrics()['experiment_status']\n"
   ]
  },
  {
   "cell_type": "code",
   "execution_count": 3,
   "id": "dfe6f28d",
   "metadata": {},
   "outputs": [
    {
     "data": {
      "text/plain": [
       "['automl_driver.py',\n",
       " 'definition.json',\n",
       " 'definition_original.json',\n",
       " 'outputs/verifier_results.json']"
      ]
     },
     "execution_count": 3,
     "metadata": {},
     "output_type": "execute_result"
    }
   ],
   "source": [
    "run.get_details()\n",
    "run.get_file_names()"
   ]
  },
  {
   "cell_type": "code",
   "execution_count": 4,
   "id": "c3e2b97f",
   "metadata": {},
   "outputs": [
    {
     "data": {
      "application/vnd.jupyter.widget-view+json": {
       "model_id": "925d7c9905cf41e8afca8b87cc6200cb",
       "version_major": 2,
       "version_minor": 0
      },
      "text/plain": [
       "_AutoMLWidget(widget_settings={'childWidgetDisplay': 'popup', 'send_telemetry': False, 'log_level': 'INFO', 's…"
      ]
     },
     "metadata": {},
     "output_type": "display_data"
    },
    {
     "data": {
      "application/aml.mini.widget.v1": "{\"loading\": true}"
     },
     "metadata": {},
     "output_type": "display_data"
    }
   ],
   "source": [
    "from azureml.core import Workspace,Experiment,Run\n",
    "from azureml.widgets import RunDetails\n",
    "\n",
    "# get workspace\n",
    "ws = Workspace.from_config()\n",
    "\n",
    "# get/create experiment\n",
    "exp = Experiment(ws, 'qwewer')\n",
    "\n",
    "# get run\n",
    "run = Run(exp,'AutoML_7590d3a5-7217-42cb-9205-a87675e13872')\n",
    "\n",
    "# submit script to AML\n",
    "RunDetails(run).show()"
   ]
  },
  {
   "cell_type": "code",
   "execution_count": null,
   "id": "219f58f6",
   "metadata": {},
   "outputs": [],
   "source": []
  }
 ],
 "metadata": {
  "kernelspec": {
   "display_name": "Python 3",
   "language": "python",
   "name": "python3"
  },
  "language_info": {
   "codemirror_mode": {
    "name": "ipython",
    "version": 3
   },
   "file_extension": ".py",
   "mimetype": "text/x-python",
   "name": "python",
   "nbconvert_exporter": "python",
   "pygments_lexer": "ipython3",
   "version": "3.6.9"
  }
 },
 "nbformat": 4,
 "nbformat_minor": 5
}
